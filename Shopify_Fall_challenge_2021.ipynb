{
  "nbformat": 4,
  "nbformat_minor": 0,
  "metadata": {
    "colab": {
      "name": "Shopify_Fall_challenge_2021.ipynb",
      "provenance": []
    },
    "kernelspec": {
      "name": "python3",
      "display_name": "Python 3"
    },
    "language_info": {
      "name": "python"
    },
    "accelerator": "GPU"
  },
  "cells": [
    {
      "cell_type": "code",
      "metadata": {
        "colab": {
          "base_uri": "https://localhost:8080/"
        },
        "id": "MgzaroGmhtvU",
        "outputId": "d4c59872-244b-459f-e47f-9bd404aad40a"
      },
      "source": [
        "cd drive/MyDrive/"
      ],
      "execution_count": 1,
      "outputs": [
        {
          "output_type": "stream",
          "text": [
            "/content/drive/MyDrive\n"
          ],
          "name": "stdout"
        }
      ]
    },
    {
      "cell_type": "code",
      "metadata": {
        "id": "f2W6-g5ciBme"
      },
      "source": [
        "import pandas as pd\n",
        "import seaborn as sn\n",
        "import matplotlib.pyplot as plt"
      ],
      "execution_count": 2,
      "outputs": []
    },
    {
      "cell_type": "markdown",
      "metadata": {
        "id": "wSy1vvx9Ggov"
      },
      "source": [
        "**Q.1** **On Shopify, we have exactly 100 sneaker shops, and each of these shops sells only one model of shoe. We want to do some analysis of the average order value (AOV). When we look at orders data over a 30 day window, we naively calculate an AOV of $3145.13. Given that we know these shops are selling sneakers, a relatively affordable item, something seems wrong with our analysis.**"
      ]
    },
    {
      "cell_type": "code",
      "metadata": {
        "id": "3tz2ufQQiD1N"
      },
      "source": [
        "data_shop = pd.read_csv(\"2019 Winter Data Science Intern Challenge Data Set - Sheet1.csv\")"
      ],
      "execution_count": 3,
      "outputs": []
    },
    {
      "cell_type": "code",
      "metadata": {
        "colab": {
          "base_uri": "https://localhost:8080/",
          "height": 343
        },
        "id": "cRWusQ2JiShm",
        "outputId": "f507cc09-4433-4709-8594-262aa4fb76ad"
      },
      "source": [
        "data_shop.head(10)"
      ],
      "execution_count": 4,
      "outputs": [
        {
          "output_type": "execute_result",
          "data": {
            "text/html": [
              "<div>\n",
              "<style scoped>\n",
              "    .dataframe tbody tr th:only-of-type {\n",
              "        vertical-align: middle;\n",
              "    }\n",
              "\n",
              "    .dataframe tbody tr th {\n",
              "        vertical-align: top;\n",
              "    }\n",
              "\n",
              "    .dataframe thead th {\n",
              "        text-align: right;\n",
              "    }\n",
              "</style>\n",
              "<table border=\"1\" class=\"dataframe\">\n",
              "  <thead>\n",
              "    <tr style=\"text-align: right;\">\n",
              "      <th></th>\n",
              "      <th>order_id</th>\n",
              "      <th>shop_id</th>\n",
              "      <th>user_id</th>\n",
              "      <th>order_amount</th>\n",
              "      <th>total_items</th>\n",
              "      <th>payment_method</th>\n",
              "      <th>created_at</th>\n",
              "    </tr>\n",
              "  </thead>\n",
              "  <tbody>\n",
              "    <tr>\n",
              "      <th>0</th>\n",
              "      <td>1</td>\n",
              "      <td>53</td>\n",
              "      <td>746</td>\n",
              "      <td>224</td>\n",
              "      <td>2</td>\n",
              "      <td>cash</td>\n",
              "      <td>2017-03-13 12:36:56</td>\n",
              "    </tr>\n",
              "    <tr>\n",
              "      <th>1</th>\n",
              "      <td>2</td>\n",
              "      <td>92</td>\n",
              "      <td>925</td>\n",
              "      <td>90</td>\n",
              "      <td>1</td>\n",
              "      <td>cash</td>\n",
              "      <td>2017-03-03 17:38:52</td>\n",
              "    </tr>\n",
              "    <tr>\n",
              "      <th>2</th>\n",
              "      <td>3</td>\n",
              "      <td>44</td>\n",
              "      <td>861</td>\n",
              "      <td>144</td>\n",
              "      <td>1</td>\n",
              "      <td>cash</td>\n",
              "      <td>2017-03-14 4:23:56</td>\n",
              "    </tr>\n",
              "    <tr>\n",
              "      <th>3</th>\n",
              "      <td>4</td>\n",
              "      <td>18</td>\n",
              "      <td>935</td>\n",
              "      <td>156</td>\n",
              "      <td>1</td>\n",
              "      <td>credit_card</td>\n",
              "      <td>2017-03-26 12:43:37</td>\n",
              "    </tr>\n",
              "    <tr>\n",
              "      <th>4</th>\n",
              "      <td>5</td>\n",
              "      <td>18</td>\n",
              "      <td>883</td>\n",
              "      <td>156</td>\n",
              "      <td>1</td>\n",
              "      <td>credit_card</td>\n",
              "      <td>2017-03-01 4:35:11</td>\n",
              "    </tr>\n",
              "    <tr>\n",
              "      <th>5</th>\n",
              "      <td>6</td>\n",
              "      <td>58</td>\n",
              "      <td>882</td>\n",
              "      <td>138</td>\n",
              "      <td>1</td>\n",
              "      <td>credit_card</td>\n",
              "      <td>2017-03-14 15:25:01</td>\n",
              "    </tr>\n",
              "    <tr>\n",
              "      <th>6</th>\n",
              "      <td>7</td>\n",
              "      <td>87</td>\n",
              "      <td>915</td>\n",
              "      <td>149</td>\n",
              "      <td>1</td>\n",
              "      <td>cash</td>\n",
              "      <td>2017-03-01 21:37:57</td>\n",
              "    </tr>\n",
              "    <tr>\n",
              "      <th>7</th>\n",
              "      <td>8</td>\n",
              "      <td>22</td>\n",
              "      <td>761</td>\n",
              "      <td>292</td>\n",
              "      <td>2</td>\n",
              "      <td>cash</td>\n",
              "      <td>2017-03-08 2:05:38</td>\n",
              "    </tr>\n",
              "    <tr>\n",
              "      <th>8</th>\n",
              "      <td>9</td>\n",
              "      <td>64</td>\n",
              "      <td>914</td>\n",
              "      <td>266</td>\n",
              "      <td>2</td>\n",
              "      <td>debit</td>\n",
              "      <td>2017-03-17 20:56:50</td>\n",
              "    </tr>\n",
              "    <tr>\n",
              "      <th>9</th>\n",
              "      <td>10</td>\n",
              "      <td>52</td>\n",
              "      <td>788</td>\n",
              "      <td>146</td>\n",
              "      <td>1</td>\n",
              "      <td>credit_card</td>\n",
              "      <td>2017-03-30 21:08:26</td>\n",
              "    </tr>\n",
              "  </tbody>\n",
              "</table>\n",
              "</div>"
            ],
            "text/plain": [
              "   order_id  shop_id  user_id  ...  total_items  payment_method           created_at\n",
              "0         1       53      746  ...            2            cash  2017-03-13 12:36:56\n",
              "1         2       92      925  ...            1            cash  2017-03-03 17:38:52\n",
              "2         3       44      861  ...            1            cash   2017-03-14 4:23:56\n",
              "3         4       18      935  ...            1     credit_card  2017-03-26 12:43:37\n",
              "4         5       18      883  ...            1     credit_card   2017-03-01 4:35:11\n",
              "5         6       58      882  ...            1     credit_card  2017-03-14 15:25:01\n",
              "6         7       87      915  ...            1            cash  2017-03-01 21:37:57\n",
              "7         8       22      761  ...            2            cash   2017-03-08 2:05:38\n",
              "8         9       64      914  ...            2           debit  2017-03-17 20:56:50\n",
              "9        10       52      788  ...            1     credit_card  2017-03-30 21:08:26\n",
              "\n",
              "[10 rows x 7 columns]"
            ]
          },
          "metadata": {
            "tags": []
          },
          "execution_count": 4
        }
      ]
    },
    {
      "cell_type": "code",
      "metadata": {
        "colab": {
          "base_uri": "https://localhost:8080/"
        },
        "id": "SVT-fXuIjMIY",
        "outputId": "d2d95fa2-91c5-42b4-e332-3f47b097e9f8"
      },
      "source": [
        "data_shop.info()"
      ],
      "execution_count": 5,
      "outputs": [
        {
          "output_type": "stream",
          "text": [
            "<class 'pandas.core.frame.DataFrame'>\n",
            "RangeIndex: 5000 entries, 0 to 4999\n",
            "Data columns (total 7 columns):\n",
            " #   Column          Non-Null Count  Dtype \n",
            "---  ------          --------------  ----- \n",
            " 0   order_id        5000 non-null   int64 \n",
            " 1   shop_id         5000 non-null   int64 \n",
            " 2   user_id         5000 non-null   int64 \n",
            " 3   order_amount    5000 non-null   int64 \n",
            " 4   total_items     5000 non-null   int64 \n",
            " 5   payment_method  5000 non-null   object\n",
            " 6   created_at      5000 non-null   object\n",
            "dtypes: int64(5), object(2)\n",
            "memory usage: 273.6+ KB\n"
          ],
          "name": "stdout"
        }
      ]
    },
    {
      "cell_type": "markdown",
      "metadata": {
        "id": "fw0TVzc_HvNZ"
      },
      "source": [
        "**Q.1.a.** Think about what could be going wrong with our calculation. Think about a better way to evaluate this data. "
      ]
    },
    {
      "cell_type": "code",
      "metadata": {
        "colab": {
          "base_uri": "https://localhost:8080/",
          "height": 284
        },
        "id": "NZz4Tl3luTuK",
        "outputId": "04bbaf3d-dacc-4348-9ed0-f1bb90b67dd3"
      },
      "source": [
        "data_shop.describe()"
      ],
      "execution_count": 6,
      "outputs": [
        {
          "output_type": "execute_result",
          "data": {
            "text/html": [
              "<div>\n",
              "<style scoped>\n",
              "    .dataframe tbody tr th:only-of-type {\n",
              "        vertical-align: middle;\n",
              "    }\n",
              "\n",
              "    .dataframe tbody tr th {\n",
              "        vertical-align: top;\n",
              "    }\n",
              "\n",
              "    .dataframe thead th {\n",
              "        text-align: right;\n",
              "    }\n",
              "</style>\n",
              "<table border=\"1\" class=\"dataframe\">\n",
              "  <thead>\n",
              "    <tr style=\"text-align: right;\">\n",
              "      <th></th>\n",
              "      <th>order_id</th>\n",
              "      <th>shop_id</th>\n",
              "      <th>user_id</th>\n",
              "      <th>order_amount</th>\n",
              "      <th>total_items</th>\n",
              "    </tr>\n",
              "  </thead>\n",
              "  <tbody>\n",
              "    <tr>\n",
              "      <th>count</th>\n",
              "      <td>5000.000000</td>\n",
              "      <td>5000.000000</td>\n",
              "      <td>5000.000000</td>\n",
              "      <td>5000.000000</td>\n",
              "      <td>5000.00000</td>\n",
              "    </tr>\n",
              "    <tr>\n",
              "      <th>mean</th>\n",
              "      <td>2500.500000</td>\n",
              "      <td>50.078800</td>\n",
              "      <td>849.092400</td>\n",
              "      <td>3145.128000</td>\n",
              "      <td>8.78720</td>\n",
              "    </tr>\n",
              "    <tr>\n",
              "      <th>std</th>\n",
              "      <td>1443.520003</td>\n",
              "      <td>29.006118</td>\n",
              "      <td>87.798982</td>\n",
              "      <td>41282.539349</td>\n",
              "      <td>116.32032</td>\n",
              "    </tr>\n",
              "    <tr>\n",
              "      <th>min</th>\n",
              "      <td>1.000000</td>\n",
              "      <td>1.000000</td>\n",
              "      <td>607.000000</td>\n",
              "      <td>90.000000</td>\n",
              "      <td>1.00000</td>\n",
              "    </tr>\n",
              "    <tr>\n",
              "      <th>25%</th>\n",
              "      <td>1250.750000</td>\n",
              "      <td>24.000000</td>\n",
              "      <td>775.000000</td>\n",
              "      <td>163.000000</td>\n",
              "      <td>1.00000</td>\n",
              "    </tr>\n",
              "    <tr>\n",
              "      <th>50%</th>\n",
              "      <td>2500.500000</td>\n",
              "      <td>50.000000</td>\n",
              "      <td>849.000000</td>\n",
              "      <td>284.000000</td>\n",
              "      <td>2.00000</td>\n",
              "    </tr>\n",
              "    <tr>\n",
              "      <th>75%</th>\n",
              "      <td>3750.250000</td>\n",
              "      <td>75.000000</td>\n",
              "      <td>925.000000</td>\n",
              "      <td>390.000000</td>\n",
              "      <td>3.00000</td>\n",
              "    </tr>\n",
              "    <tr>\n",
              "      <th>max</th>\n",
              "      <td>5000.000000</td>\n",
              "      <td>100.000000</td>\n",
              "      <td>999.000000</td>\n",
              "      <td>704000.000000</td>\n",
              "      <td>2000.00000</td>\n",
              "    </tr>\n",
              "  </tbody>\n",
              "</table>\n",
              "</div>"
            ],
            "text/plain": [
              "          order_id      shop_id      user_id   order_amount  total_items\n",
              "count  5000.000000  5000.000000  5000.000000    5000.000000   5000.00000\n",
              "mean   2500.500000    50.078800   849.092400    3145.128000      8.78720\n",
              "std    1443.520003    29.006118    87.798982   41282.539349    116.32032\n",
              "min       1.000000     1.000000   607.000000      90.000000      1.00000\n",
              "25%    1250.750000    24.000000   775.000000     163.000000      1.00000\n",
              "50%    2500.500000    50.000000   849.000000     284.000000      2.00000\n",
              "75%    3750.250000    75.000000   925.000000     390.000000      3.00000\n",
              "max    5000.000000   100.000000   999.000000  704000.000000   2000.00000"
            ]
          },
          "metadata": {
            "tags": []
          },
          "execution_count": 6
        }
      ]
    },
    {
      "cell_type": "markdown",
      "metadata": {
        "id": "WgPVDHgqHhus"
      },
      "source": [
        "**Q.1.a.** Average order value is defined as the the total value by the no. of occurences i.e. in other words mean of the data. Statistical description of above data shows that the Average order value(AOV) of 'order_amount' is approx 3145.13('mean' row of 'order_amount' column: 3145.128 ) which is given in the question in contradiction to low prices of sneakers. \n",
        "\n",
        "**Initial hypotheses:**\n",
        "\n",
        "> \n",
        "\n",
        "There is nothing wrong in the calculation of AOV but certain points should be taken care of before actual calculation to get accurate statistical analysis that somehow would have went wrong. The potential reason for this could be data with high outliers and due to their large values mean/AOV could have been shifted to a large number. Lets analyse in detail: \n"
      ]
    },
    {
      "cell_type": "code",
      "metadata": {
        "colab": {
          "base_uri": "https://localhost:8080/",
          "height": 297
        },
        "id": "-0IQcyXjjagf",
        "outputId": "17b41163-35a9-4668-aab8-0b12838ae01b"
      },
      "source": [
        "data_shop.plot.scatter(x='order_id',y='order_amount')"
      ],
      "execution_count": 7,
      "outputs": [
        {
          "output_type": "execute_result",
          "data": {
            "text/plain": [
              "<matplotlib.axes._subplots.AxesSubplot at 0x7f26da1ed910>"
            ]
          },
          "metadata": {
            "tags": []
          },
          "execution_count": 7
        },
        {
          "output_type": "display_data",
          "data": {
            "image/png": "[encoded data removed]",
            "text/plain": [
              "<Figure size 432x288 with 1 Axes>"
            ]
          },
          "metadata": {
            "tags": [],
            "needs_background": "light"
          }
        }
      ]
    },
    {
      "cell_type": "markdown",
      "metadata": {
        "id": "L1HXKyK8JoeE"
      },
      "source": [
        "**Q.1. a.** Above scatter plot clearly shows that most of the occurences lie within 30000 amount and few outliers are having very high value"
      ]
    },
    {
      "cell_type": "code",
      "metadata": {
        "colab": {
          "base_uri": "https://localhost:8080/",
          "height": 283
        },
        "id": "cFGZ3tgysdNF",
        "outputId": "80540381-53d5-45d1-b183-3b1a29b39b8b"
      },
      "source": [
        "data_shop.boxplot('order_amount')\n",
        "plt.ylim(0,15000)"
      ],
      "execution_count": 8,
      "outputs": [
        {
          "output_type": "execute_result",
          "data": {
            "text/plain": [
              "(0.0, 15000.0)"
            ]
          },
          "metadata": {
            "tags": []
          },
          "execution_count": 8
        },
        {
          "output_type": "display_data",
          "data": {
            "image/png": "[encoded data removed]",
            "text/plain": [
              "<Figure size 432x288 with 1 Axes>"
            ]
          },
          "metadata": {
            "tags": [],
            "needs_background": "light"
          }
        }
      ]
    },
    {
      "cell_type": "markdown",
      "metadata": {
        "id": "DxW0DHi2KeMx"
      },
      "source": [
        "**Q.1.a.** After chopping the y-axis to 15000 we found using box plot that third quantile and the maximum value lie within 1000. This confirms our hypotheses of outlier being the reason of AOV shifting to a high value"
      ]
    },
    {
      "cell_type": "code",
      "metadata": {
        "colab": {
          "base_uri": "https://localhost:8080/",
          "height": 639
        },
        "id": "4zeB9DCpt_53",
        "outputId": "05e917f8-db70-4e77-a858-3a205b04645a"
      },
      "source": [
        "data_cut = data_shop.groupby(['order_amount']).size().reset_index(name = 'count').sort_values(by='order_amount', ascending = False)\n",
        "data_cut.head(20)"
      ],
      "execution_count": 28,
      "outputs": [
        {
          "output_type": "execute_result",
          "data": {
            "text/html": [
              "<div>\n",
              "<style scoped>\n",
              "    .dataframe tbody tr th:only-of-type {\n",
              "        vertical-align: middle;\n",
              "    }\n",
              "\n",
              "    .dataframe tbody tr th {\n",
              "        vertical-align: top;\n",
              "    }\n",
              "\n",
              "    .dataframe thead th {\n",
              "        text-align: right;\n",
              "    }\n",
              "</style>\n",
              "<table border=\"1\" class=\"dataframe\">\n",
              "  <thead>\n",
              "    <tr style=\"text-align: right;\">\n",
              "      <th></th>\n",
              "      <th>order_amount</th>\n",
              "      <th>count</th>\n",
              "    </tr>\n",
              "  </thead>\n",
              "  <tbody>\n",
              "    <tr>\n",
              "      <th>257</th>\n",
              "      <td>704000</td>\n",
              "      <td>17</td>\n",
              "    </tr>\n",
              "    <tr>\n",
              "      <th>256</th>\n",
              "      <td>154350</td>\n",
              "      <td>1</td>\n",
              "    </tr>\n",
              "    <tr>\n",
              "      <th>255</th>\n",
              "      <td>102900</td>\n",
              "      <td>1</td>\n",
              "    </tr>\n",
              "    <tr>\n",
              "      <th>254</th>\n",
              "      <td>77175</td>\n",
              "      <td>9</td>\n",
              "    </tr>\n",
              "    <tr>\n",
              "      <th>253</th>\n",
              "      <td>51450</td>\n",
              "      <td>16</td>\n",
              "    </tr>\n",
              "    <tr>\n",
              "      <th>252</th>\n",
              "      <td>25725</td>\n",
              "      <td>19</td>\n",
              "    </tr>\n",
              "    <tr>\n",
              "      <th>251</th>\n",
              "      <td>1760</td>\n",
              "      <td>1</td>\n",
              "    </tr>\n",
              "    <tr>\n",
              "      <th>250</th>\n",
              "      <td>1408</td>\n",
              "      <td>2</td>\n",
              "    </tr>\n",
              "    <tr>\n",
              "      <th>249</th>\n",
              "      <td>1086</td>\n",
              "      <td>1</td>\n",
              "    </tr>\n",
              "    <tr>\n",
              "      <th>248</th>\n",
              "      <td>1064</td>\n",
              "      <td>1</td>\n",
              "    </tr>\n",
              "    <tr>\n",
              "      <th>247</th>\n",
              "      <td>1056</td>\n",
              "      <td>3</td>\n",
              "    </tr>\n",
              "    <tr>\n",
              "      <th>246</th>\n",
              "      <td>980</td>\n",
              "      <td>1</td>\n",
              "    </tr>\n",
              "    <tr>\n",
              "      <th>245</th>\n",
              "      <td>965</td>\n",
              "      <td>1</td>\n",
              "    </tr>\n",
              "    <tr>\n",
              "      <th>244</th>\n",
              "      <td>960</td>\n",
              "      <td>2</td>\n",
              "    </tr>\n",
              "    <tr>\n",
              "      <th>243</th>\n",
              "      <td>948</td>\n",
              "      <td>1</td>\n",
              "    </tr>\n",
              "    <tr>\n",
              "      <th>242</th>\n",
              "      <td>935</td>\n",
              "      <td>3</td>\n",
              "    </tr>\n",
              "    <tr>\n",
              "      <th>241</th>\n",
              "      <td>920</td>\n",
              "      <td>1</td>\n",
              "    </tr>\n",
              "    <tr>\n",
              "      <th>240</th>\n",
              "      <td>890</td>\n",
              "      <td>1</td>\n",
              "    </tr>\n",
              "    <tr>\n",
              "      <th>239</th>\n",
              "      <td>885</td>\n",
              "      <td>2</td>\n",
              "    </tr>\n",
              "    <tr>\n",
              "      <th>238</th>\n",
              "      <td>880</td>\n",
              "      <td>3</td>\n",
              "    </tr>\n",
              "  </tbody>\n",
              "</table>\n",
              "</div>"
            ],
            "text/plain": [
              "     order_amount  count\n",
              "257        704000     17\n",
              "256        154350      1\n",
              "255        102900      1\n",
              "254         77175      9\n",
              "253         51450     16\n",
              "252         25725     19\n",
              "251          1760      1\n",
              "250          1408      2\n",
              "249          1086      1\n",
              "248          1064      1\n",
              "247          1056      3\n",
              "246           980      1\n",
              "245           965      1\n",
              "244           960      2\n",
              "243           948      1\n",
              "242           935      3\n",
              "241           920      1\n",
              "240           890      1\n",
              "239           885      2\n",
              "238           880      3"
            ]
          },
          "metadata": {
            "tags": []
          },
          "execution_count": 28
        }
      ]
    },
    {
      "cell_type": "markdown",
      "metadata": {
        "id": "MSNlSwQZK_1m"
      },
      "source": [
        "**Q.1.a.** By grouping the data on 'order_amount' column and sorting with descending visulaisation we can see that ouliers are upto 25000 and after that amount is dropped to within 2000 occurences are also considerably high for outlier values and hence the high AOV. "
      ]
    },
    {
      "cell_type": "code",
      "metadata": {
        "colab": {
          "base_uri": "https://localhost:8080/",
          "height": 350
        },
        "id": "fZ-uAE_RuhDm",
        "outputId": "432abd26-61e4-414d-9458-d511f59c4a70"
      },
      "source": [
        "sn.boxplot(data_shop['order_amount'])\n",
        "plt.xlim(0, 2000)"
      ],
      "execution_count": 10,
      "outputs": [
        {
          "output_type": "stream",
          "text": [
            "/usr/local/lib/python3.7/dist-packages/seaborn/_decorators.py:43: FutureWarning: Pass the following variable as a keyword arg: x. From version 0.12, the only valid positional argument will be `data`, and passing other arguments without an explicit keyword will result in an error or misinterpretation.\n",
            "  FutureWarning\n"
          ],
          "name": "stderr"
        },
        {
          "output_type": "execute_result",
          "data": {
            "text/plain": [
              "(0.0, 2000.0)"
            ]
          },
          "metadata": {
            "tags": []
          },
          "execution_count": 10
        },
        {
          "output_type": "display_data",
          "data": {
            "image/png": "[encoded data removed]",
            "text/plain": [
              "<Figure size 432x288 with 1 Axes>"
            ]
          },
          "metadata": {
            "tags": [],
            "needs_background": "light"
          }
        }
      ]
    },
    {
      "cell_type": "markdown",
      "metadata": {
        "id": "HkjIDVY3M951"
      },
      "source": [
        "**Q.1.a.** Plotting the box plot again by chopping all the values above 2000 we found that there are still few outliers though we can now visualise the max min and quantile values of the data."
      ]
    },
    {
      "cell_type": "markdown",
      "metadata": {
        "id": "m9CbfFxfNQW1"
      },
      "source": [
        "**Q.1.a.** We will explore certain ways to recalculate corrected AOV for the data\n",
        "\n",
        "\n",
        ">\n",
        "\n",
        "\n",
        "**Histogram Analysis**"
      ]
    },
    {
      "cell_type": "code",
      "metadata": {
        "id": "l4evJ2t0v5Ay",
        "colab": {
          "base_uri": "https://localhost:8080/",
          "height": 282
        },
        "outputId": "f241ff8d-7526-4120-9a72-cab57802cab7"
      },
      "source": [
        "plt.hist(data_shop['order_amount'], bins=50)\n",
        "plt.plot()"
      ],
      "execution_count": 11,
      "outputs": [
        {
          "output_type": "execute_result",
          "data": {
            "text/plain": [
              "[]"
            ]
          },
          "metadata": {
            "tags": []
          },
          "execution_count": 11
        },
        {
          "output_type": "display_data",
          "data": {
            "image/png": "[encoded data removed]",
            "text/plain": [
              "<Figure size 432x288 with 1 Axes>"
            ]
          },
          "metadata": {
            "tags": [],
            "needs_background": "light"
          }
        }
      ]
    },
    {
      "cell_type": "code",
      "metadata": {
        "colab": {
          "base_uri": "https://localhost:8080/",
          "height": 282
        },
        "id": "L1m1sT1DpbZt",
        "outputId": "d0cb22d9-33c3-4c46-9ae3-c3a2a564b7a6"
      },
      "source": [
        "plt.hist(data_shop['total_items'], bins=50)\n",
        "plt.plot()"
      ],
      "execution_count": 12,
      "outputs": [
        {
          "output_type": "execute_result",
          "data": {
            "text/plain": [
              "[]"
            ]
          },
          "metadata": {
            "tags": []
          },
          "execution_count": 12
        },
        {
          "output_type": "display_data",
          "data": {
            "image/png": "[encoded data removed]",
            "text/plain": [
              "<Figure size 432x288 with 1 Axes>"
            ]
          },
          "metadata": {
            "tags": [],
            "needs_background": "light"
          }
        }
      ]
    },
    {
      "cell_type": "markdown",
      "metadata": {
        "id": "lpLoGStWNqcR"
      },
      "source": [
        "**Q.1.a.** plotting 'total_items' and 'order_amount' clearly showed that data is highly skewed lets tune the data to get the accurate AOV for the data"
      ]
    },
    {
      "cell_type": "code",
      "metadata": {
        "id": "3ugTtlt_psCr"
      },
      "source": [
        "tune_data = data_shop[data_shop['total_items']<20]"
      ],
      "execution_count": 13,
      "outputs": []
    },
    {
      "cell_type": "markdown",
      "metadata": {
        "id": "qZTsBVjOQAem"
      },
      "source": [
        "**Q.1.a.** From 'total_items' histogram we can see that outliers can be removed by chopping no. of items to 20"
      ]
    },
    {
      "cell_type": "code",
      "metadata": {
        "colab": {
          "base_uri": "https://localhost:8080/",
          "height": 282
        },
        "id": "m9-rVs0_yK1j",
        "outputId": "fb893125-714d-4387-c9ca-bb093573335e"
      },
      "source": [
        "plt.hist(tune_data['total_items'], bins=50)\n",
        "plt.plot()"
      ],
      "execution_count": 14,
      "outputs": [
        {
          "output_type": "execute_result",
          "data": {
            "text/plain": [
              "[]"
            ]
          },
          "metadata": {
            "tags": []
          },
          "execution_count": 14
        },
        {
          "output_type": "display_data",
          "data": {
            "image/png": "[encoded data removed]",
            "text/plain": [
              "<Figure size 432x288 with 1 Axes>"
            ]
          },
          "metadata": {
            "tags": [],
            "needs_background": "light"
          }
        }
      ]
    },
    {
      "cell_type": "code",
      "metadata": {
        "colab": {
          "base_uri": "https://localhost:8080/",
          "height": 282
        },
        "id": "3OwB__npyUdt",
        "outputId": "9c60cd12-26d4-4665-cdc5-67619d28cb93"
      },
      "source": [
        "plt.hist(tune_data['order_amount'], bins=50)\n",
        "plt.plot()"
      ],
      "execution_count": 15,
      "outputs": [
        {
          "output_type": "execute_result",
          "data": {
            "text/plain": [
              "[]"
            ]
          },
          "metadata": {
            "tags": []
          },
          "execution_count": 15
        },
        {
          "output_type": "display_data",
          "data": {
            "image/png": "[encoded data removed]",
            "text/plain": [
              "<Figure size 432x288 with 1 Axes>"
            ]
          },
          "metadata": {
            "tags": [],
            "needs_background": "light"
          }
        }
      ]
    },
    {
      "cell_type": "markdown",
      "metadata": {
        "id": "RTPKDYecQUi4"
      },
      "source": [
        "**Q.1.a.** 'total_items' histogram is seems to be pretty much normalised but 'order_amount' histogrm is still much skewed lets tune data a bit more to completly remove outliers"
      ]
    },
    {
      "cell_type": "code",
      "metadata": {
        "id": "49t-Jvqhyjsm"
      },
      "source": [
        "tune_data1 = tune_data[tune_data['order_amount']<3000]"
      ],
      "execution_count": 16,
      "outputs": []
    },
    {
      "cell_type": "markdown",
      "metadata": {
        "id": "PCf9GK8qRtm5"
      },
      "source": [
        "**Q.1.a.** From 'order_amount' histogram we can see that outliers can be removed by chopping order amount value to 3000"
      ]
    },
    {
      "cell_type": "code",
      "metadata": {
        "colab": {
          "base_uri": "https://localhost:8080/",
          "height": 282
        },
        "id": "9nBVI0GMzK1c",
        "outputId": "94afb177-7895-4f69-de4d-f1926ae08e26"
      },
      "source": [
        "plt.hist(tune_data1['total_items'], bins=50)\n",
        "plt.plot()"
      ],
      "execution_count": 17,
      "outputs": [
        {
          "output_type": "execute_result",
          "data": {
            "text/plain": [
              "[]"
            ]
          },
          "metadata": {
            "tags": []
          },
          "execution_count": 17
        },
        {
          "output_type": "display_data",
          "data": {
            "image/png": "[encoded data removed]",
            "text/plain": [
              "<Figure size 432x288 with 1 Axes>"
            ]
          },
          "metadata": {
            "tags": [],
            "needs_background": "light"
          }
        }
      ]
    },
    {
      "cell_type": "code",
      "metadata": {
        "colab": {
          "base_uri": "https://localhost:8080/",
          "height": 282
        },
        "id": "FtLeBhR1zK1g",
        "outputId": "0365d558-1c1f-46c3-c22c-46ac2f59a0e1"
      },
      "source": [
        "plt.hist(tune_data1['order_amount'], bins=50)\n",
        "plt.plot()"
      ],
      "execution_count": 18,
      "outputs": [
        {
          "output_type": "execute_result",
          "data": {
            "text/plain": [
              "[]"
            ]
          },
          "metadata": {
            "tags": []
          },
          "execution_count": 18
        },
        {
          "output_type": "display_data",
          "data": {
            "image/png": "[encoded data removed]",
            "text/plain": [
              "<Figure size 432x288 with 1 Axes>"
            ]
          },
          "metadata": {
            "tags": [],
            "needs_background": "light"
          }
        }
      ]
    },
    {
      "cell_type": "markdown",
      "metadata": {
        "id": "Zfp8x69gR_mi"
      },
      "source": [
        "**Q.1.a.** Much better for both the histograms we can see that the data is much normalised compared to their initial counterparts"
      ]
    },
    {
      "cell_type": "code",
      "metadata": {
        "colab": {
          "base_uri": "https://localhost:8080/",
          "height": 284
        },
        "id": "4rb5M60VzOBH",
        "outputId": "577b54c1-1d08-4ec4-9829-6cdbaa951e5d"
      },
      "source": [
        "tune_data1.describe()"
      ],
      "execution_count": 19,
      "outputs": [
        {
          "output_type": "execute_result",
          "data": {
            "text/html": [
              "<div>\n",
              "<style scoped>\n",
              "    .dataframe tbody tr th:only-of-type {\n",
              "        vertical-align: middle;\n",
              "    }\n",
              "\n",
              "    .dataframe tbody tr th {\n",
              "        vertical-align: top;\n",
              "    }\n",
              "\n",
              "    .dataframe thead th {\n",
              "        text-align: right;\n",
              "    }\n",
              "</style>\n",
              "<table border=\"1\" class=\"dataframe\">\n",
              "  <thead>\n",
              "    <tr style=\"text-align: right;\">\n",
              "      <th></th>\n",
              "      <th>order_id</th>\n",
              "      <th>shop_id</th>\n",
              "      <th>user_id</th>\n",
              "      <th>order_amount</th>\n",
              "      <th>total_items</th>\n",
              "    </tr>\n",
              "  </thead>\n",
              "  <tbody>\n",
              "    <tr>\n",
              "      <th>count</th>\n",
              "      <td>4937.000000</td>\n",
              "      <td>4937.000000</td>\n",
              "      <td>4937.000000</td>\n",
              "      <td>4937.000000</td>\n",
              "      <td>4937.000000</td>\n",
              "    </tr>\n",
              "    <tr>\n",
              "      <th>mean</th>\n",
              "      <td>2499.551347</td>\n",
              "      <td>49.846465</td>\n",
              "      <td>849.752279</td>\n",
              "      <td>302.580514</td>\n",
              "      <td>1.994734</td>\n",
              "    </tr>\n",
              "    <tr>\n",
              "      <th>std</th>\n",
              "      <td>1444.069407</td>\n",
              "      <td>29.061131</td>\n",
              "      <td>86.840313</td>\n",
              "      <td>160.804912</td>\n",
              "      <td>0.982821</td>\n",
              "    </tr>\n",
              "    <tr>\n",
              "      <th>min</th>\n",
              "      <td>1.000000</td>\n",
              "      <td>1.000000</td>\n",
              "      <td>700.000000</td>\n",
              "      <td>90.000000</td>\n",
              "      <td>1.000000</td>\n",
              "    </tr>\n",
              "    <tr>\n",
              "      <th>25%</th>\n",
              "      <td>1248.000000</td>\n",
              "      <td>24.000000</td>\n",
              "      <td>775.000000</td>\n",
              "      <td>163.000000</td>\n",
              "      <td>1.000000</td>\n",
              "    </tr>\n",
              "    <tr>\n",
              "      <th>50%</th>\n",
              "      <td>2497.000000</td>\n",
              "      <td>50.000000</td>\n",
              "      <td>850.000000</td>\n",
              "      <td>284.000000</td>\n",
              "      <td>2.000000</td>\n",
              "    </tr>\n",
              "    <tr>\n",
              "      <th>75%</th>\n",
              "      <td>3751.000000</td>\n",
              "      <td>74.000000</td>\n",
              "      <td>925.000000</td>\n",
              "      <td>387.000000</td>\n",
              "      <td>3.000000</td>\n",
              "    </tr>\n",
              "    <tr>\n",
              "      <th>max</th>\n",
              "      <td>5000.000000</td>\n",
              "      <td>100.000000</td>\n",
              "      <td>999.000000</td>\n",
              "      <td>1760.000000</td>\n",
              "      <td>8.000000</td>\n",
              "    </tr>\n",
              "  </tbody>\n",
              "</table>\n",
              "</div>"
            ],
            "text/plain": [
              "          order_id      shop_id      user_id  order_amount  total_items\n",
              "count  4937.000000  4937.000000  4937.000000   4937.000000  4937.000000\n",
              "mean   2499.551347    49.846465   849.752279    302.580514     1.994734\n",
              "std    1444.069407    29.061131    86.840313    160.804912     0.982821\n",
              "min       1.000000     1.000000   700.000000     90.000000     1.000000\n",
              "25%    1248.000000    24.000000   775.000000    163.000000     1.000000\n",
              "50%    2497.000000    50.000000   850.000000    284.000000     2.000000\n",
              "75%    3751.000000    74.000000   925.000000    387.000000     3.000000\n",
              "max    5000.000000   100.000000   999.000000   1760.000000     8.000000"
            ]
          },
          "metadata": {
            "tags": []
          },
          "execution_count": 19
        }
      ]
    },
    {
      "cell_type": "markdown",
      "metadata": {
        "id": "PZu3xEsRS9Jo"
      },
      "source": [
        "**Q.1.a.** We can see that the 'mean' row of 'order_amount' column is giving value as **302.58** which is pretty much camparable. Hence this can be one method to tune data using histograms and calculating **Average Order Value**"
      ]
    },
    {
      "cell_type": "markdown",
      "metadata": {
        "id": "0bnwWQmATxyA"
      },
      "source": [
        "**Q.1.a.**  **Box Plot Analysis**"
      ]
    },
    {
      "cell_type": "code",
      "metadata": {
        "colab": {
          "base_uri": "https://localhost:8080/",
          "height": 283
        },
        "id": "6tq2fDyvzT5v",
        "outputId": "860c7f35-0ea5-44df-f3ab-a44783432ef3"
      },
      "source": [
        "data_shop.boxplot('order_amount')"
      ],
      "execution_count": 20,
      "outputs": [
        {
          "output_type": "execute_result",
          "data": {
            "text/plain": [
              "<matplotlib.axes._subplots.AxesSubplot at 0x7f26d85dc210>"
            ]
          },
          "metadata": {
            "tags": []
          },
          "execution_count": 20
        },
        {
          "output_type": "display_data",
          "data": {
            "image/png": "[encoded data removed]",
            "text/plain": [
              "<Figure size 432x288 with 1 Axes>"
            ]
          },
          "metadata": {
            "tags": [],
            "needs_background": "light"
          }
        }
      ]
    },
    {
      "cell_type": "markdown",
      "metadata": {
        "id": "oYU9Tdz6Vcx1"
      },
      "source": [
        "**Q.1.a.** Plotting the box plot of orginal 'order_amount' data can be seen having ouliers with very high value"
      ]
    },
    {
      "cell_type": "code",
      "metadata": {
        "id": "OmNv1Rzr0Sd9"
      },
      "source": [
        "Int_Quart_range = data_shop['order_amount'].quantile(0.75) - data_shop['order_amount'].quantile(0.25)"
      ],
      "execution_count": 21,
      "outputs": []
    },
    {
      "cell_type": "markdown",
      "metadata": {
        "id": "IcETQcE4XS2Q"
      },
      "source": [
        "**Q.1.a.** Calculating Inter Quartile Range to further find out maximum and minimum values using box plot equations"
      ]
    },
    {
      "cell_type": "code",
      "metadata": {
        "id": "Tx9AhX6K0mQo"
      },
      "source": [
        "filter_data = data_shop[(data_shop['order_amount'] < data_shop['order_amount'].quantile(0.75)+Int_Quart_range*1.5) & (data_shop['order_amount'] > data_shop['order_amount'].quantile(0.25)-Int_Quart_range*1.5)]"
      ],
      "execution_count": 22,
      "outputs": []
    },
    {
      "cell_type": "markdown",
      "metadata": {
        "id": "FNbkEwW-XsgG"
      },
      "source": [
        "**Q.1.a.** Filtering data by selecting 'order_amount' values in the range of (First Quartile - IQR*1.5) to (Third Quartile + IQR*1.5) that respectively gives minimum and maximum values for boxplot excluding outlier."
      ]
    },
    {
      "cell_type": "code",
      "metadata": {
        "colab": {
          "base_uri": "https://localhost:8080/",
          "height": 350
        },
        "id": "5SwoFdrg1FIl",
        "outputId": "0a98f35d-231d-43e2-e3a8-d03eba13a0b3"
      },
      "source": [
        "sn.boxplot(filter_data['order_amount'])"
      ],
      "execution_count": 23,
      "outputs": [
        {
          "output_type": "stream",
          "text": [
            "/usr/local/lib/python3.7/dist-packages/seaborn/_decorators.py:43: FutureWarning: Pass the following variable as a keyword arg: x. From version 0.12, the only valid positional argument will be `data`, and passing other arguments without an explicit keyword will result in an error or misinterpretation.\n",
            "  FutureWarning\n"
          ],
          "name": "stderr"
        },
        {
          "output_type": "execute_result",
          "data": {
            "text/plain": [
              "<matplotlib.axes._subplots.AxesSubplot at 0x7f26d85c3d10>"
            ]
          },
          "metadata": {
            "tags": []
          },
          "execution_count": 23
        },
        {
          "output_type": "display_data",
          "data": {
            "image/png": "[encoded data removed]",
            "text/plain": [
              "<Figure size 432x288 with 1 Axes>"
            ]
          },
          "metadata": {
            "tags": [],
            "needs_background": "light"
          }
        }
      ]
    },
    {
      "cell_type": "markdown",
      "metadata": {
        "id": "y5iEExdLZD-5"
      },
      "source": [
        "**Q.1.a.** Plotting the filtered data on a box plot gives commendable results though few oulier occurences can be seen. Lets use this data now to calculate AOV."
      ]
    },
    {
      "cell_type": "code",
      "metadata": {
        "colab": {
          "base_uri": "https://localhost:8080/",
          "height": 284
        },
        "id": "6QVuG-PF1d07",
        "outputId": "f1141a08-22d3-42b3-c709-e8eefde03f54"
      },
      "source": [
        "filter_data.describe()"
      ],
      "execution_count": 24,
      "outputs": [
        {
          "output_type": "execute_result",
          "data": {
            "text/html": [
              "<div>\n",
              "<style scoped>\n",
              "    .dataframe tbody tr th:only-of-type {\n",
              "        vertical-align: middle;\n",
              "    }\n",
              "\n",
              "    .dataframe tbody tr th {\n",
              "        vertical-align: top;\n",
              "    }\n",
              "\n",
              "    .dataframe thead th {\n",
              "        text-align: right;\n",
              "    }\n",
              "</style>\n",
              "<table border=\"1\" class=\"dataframe\">\n",
              "  <thead>\n",
              "    <tr style=\"text-align: right;\">\n",
              "      <th></th>\n",
              "      <th>order_id</th>\n",
              "      <th>shop_id</th>\n",
              "      <th>user_id</th>\n",
              "      <th>order_amount</th>\n",
              "      <th>total_items</th>\n",
              "    </tr>\n",
              "  </thead>\n",
              "  <tbody>\n",
              "    <tr>\n",
              "      <th>count</th>\n",
              "      <td>4859.000000</td>\n",
              "      <td>4859.000000</td>\n",
              "      <td>4859.000000</td>\n",
              "      <td>4859.000000</td>\n",
              "      <td>4859.000000</td>\n",
              "    </tr>\n",
              "    <tr>\n",
              "      <th>mean</th>\n",
              "      <td>2497.395966</td>\n",
              "      <td>49.852645</td>\n",
              "      <td>849.905742</td>\n",
              "      <td>293.715374</td>\n",
              "      <td>1.950196</td>\n",
              "    </tr>\n",
              "    <tr>\n",
              "      <th>std</th>\n",
              "      <td>1443.356555</td>\n",
              "      <td>29.049171</td>\n",
              "      <td>86.887496</td>\n",
              "      <td>144.453395</td>\n",
              "      <td>0.919791</td>\n",
              "    </tr>\n",
              "    <tr>\n",
              "      <th>min</th>\n",
              "      <td>1.000000</td>\n",
              "      <td>1.000000</td>\n",
              "      <td>700.000000</td>\n",
              "      <td>90.000000</td>\n",
              "      <td>1.000000</td>\n",
              "    </tr>\n",
              "    <tr>\n",
              "      <th>25%</th>\n",
              "      <td>1244.500000</td>\n",
              "      <td>24.000000</td>\n",
              "      <td>776.000000</td>\n",
              "      <td>162.000000</td>\n",
              "      <td>1.000000</td>\n",
              "    </tr>\n",
              "    <tr>\n",
              "      <th>50%</th>\n",
              "      <td>2498.000000</td>\n",
              "      <td>50.000000</td>\n",
              "      <td>850.000000</td>\n",
              "      <td>280.000000</td>\n",
              "      <td>2.000000</td>\n",
              "    </tr>\n",
              "    <tr>\n",
              "      <th>75%</th>\n",
              "      <td>3749.500000</td>\n",
              "      <td>74.000000</td>\n",
              "      <td>925.000000</td>\n",
              "      <td>380.000000</td>\n",
              "      <td>3.000000</td>\n",
              "    </tr>\n",
              "    <tr>\n",
              "      <th>max</th>\n",
              "      <td>5000.000000</td>\n",
              "      <td>100.000000</td>\n",
              "      <td>999.000000</td>\n",
              "      <td>730.000000</td>\n",
              "      <td>5.000000</td>\n",
              "    </tr>\n",
              "  </tbody>\n",
              "</table>\n",
              "</div>"
            ],
            "text/plain": [
              "          order_id      shop_id      user_id  order_amount  total_items\n",
              "count  4859.000000  4859.000000  4859.000000   4859.000000  4859.000000\n",
              "mean   2497.395966    49.852645   849.905742    293.715374     1.950196\n",
              "std    1443.356555    29.049171    86.887496    144.453395     0.919791\n",
              "min       1.000000     1.000000   700.000000     90.000000     1.000000\n",
              "25%    1244.500000    24.000000   776.000000    162.000000     1.000000\n",
              "50%    2498.000000    50.000000   850.000000    280.000000     2.000000\n",
              "75%    3749.500000    74.000000   925.000000    380.000000     3.000000\n",
              "max    5000.000000   100.000000   999.000000    730.000000     5.000000"
            ]
          },
          "metadata": {
            "tags": []
          },
          "execution_count": 24
        }
      ]
    },
    {
      "cell_type": "markdown",
      "metadata": {
        "id": "JyYrEuDIZSmK"
      },
      "source": [
        "**Q.1.a.** We can see that the 'mean' row of 'order_amount' column is giving value as **293.71** which is pretty much camparable. Hence this can be one method to tune data using **boxplot and calculating Average Order Value**"
      ]
    },
    {
      "cell_type": "markdown",
      "metadata": {
        "id": "zzfPsy9ZZiTa"
      },
      "source": [
        "**Q.1.b. What metric would you report for this dataset?**"
      ]
    },
    {
      "cell_type": "markdown",
      "metadata": {
        "id": "ZCLSb9q8Z0Tq"
      },
      "source": [
        "**Q.1.b.** Given the data with such high order outliers the first thing that comes to mind over Average Order Value is **Median Over Value(MOV)** or in simple terms median. Median being leaa dependent on the individual values of the distribution can minimise the effect of outliers to much higher level in comparison to mean.\n",
        "\n",
        "Though it is always beneficial to consider AOV along considering business scenarios and analytics"
      ]
    },
    {
      "cell_type": "markdown",
      "metadata": {
        "id": "BY4PwSaIayWP"
      },
      "source": [
        "**Q.1.c. What is its value?**"
      ]
    },
    {
      "cell_type": "markdown",
      "metadata": {
        "id": "l2t9Vg9Fa4Hs"
      },
      "source": [
        "**Q.1.c.** Lets find out **median order value** for the data using **Original Data, Tune data for histogram analysis and Filtered data for boxplot analysis and compare**"
      ]
    },
    {
      "cell_type": "markdown",
      "metadata": {
        "id": "mEeg8ijSbnow"
      },
      "source": [
        "**Q.1.c. MOV using original data**"
      ]
    },
    {
      "cell_type": "code",
      "metadata": {
        "colab": {
          "base_uri": "https://localhost:8080/",
          "height": 284
        },
        "id": "wPsflakU1kpb",
        "outputId": "cf4c1a7b-d8e8-4989-e61c-913e4394ada0"
      },
      "source": [
        "data_shop.describe()"
      ],
      "execution_count": 25,
      "outputs": [
        {
          "output_type": "execute_result",
          "data": {
            "text/html": [
              "<div>\n",
              "<style scoped>\n",
              "    .dataframe tbody tr th:only-of-type {\n",
              "        vertical-align: middle;\n",
              "    }\n",
              "\n",
              "    .dataframe tbody tr th {\n",
              "        vertical-align: top;\n",
              "    }\n",
              "\n",
              "    .dataframe thead th {\n",
              "        text-align: right;\n",
              "    }\n",
              "</style>\n",
              "<table border=\"1\" class=\"dataframe\">\n",
              "  <thead>\n",
              "    <tr style=\"text-align: right;\">\n",
              "      <th></th>\n",
              "      <th>order_id</th>\n",
              "      <th>shop_id</th>\n",
              "      <th>user_id</th>\n",
              "      <th>order_amount</th>\n",
              "      <th>total_items</th>\n",
              "    </tr>\n",
              "  </thead>\n",
              "  <tbody>\n",
              "    <tr>\n",
              "      <th>count</th>\n",
              "      <td>5000.000000</td>\n",
              "      <td>5000.000000</td>\n",
              "      <td>5000.000000</td>\n",
              "      <td>5000.000000</td>\n",
              "      <td>5000.00000</td>\n",
              "    </tr>\n",
              "    <tr>\n",
              "      <th>mean</th>\n",
              "      <td>2500.500000</td>\n",
              "      <td>50.078800</td>\n",
              "      <td>849.092400</td>\n",
              "      <td>3145.128000</td>\n",
              "      <td>8.78720</td>\n",
              "    </tr>\n",
              "    <tr>\n",
              "      <th>std</th>\n",
              "      <td>1443.520003</td>\n",
              "      <td>29.006118</td>\n",
              "      <td>87.798982</td>\n",
              "      <td>41282.539349</td>\n",
              "      <td>116.32032</td>\n",
              "    </tr>\n",
              "    <tr>\n",
              "      <th>min</th>\n",
              "      <td>1.000000</td>\n",
              "      <td>1.000000</td>\n",
              "      <td>607.000000</td>\n",
              "      <td>90.000000</td>\n",
              "      <td>1.00000</td>\n",
              "    </tr>\n",
              "    <tr>\n",
              "      <th>25%</th>\n",
              "      <td>1250.750000</td>\n",
              "      <td>24.000000</td>\n",
              "      <td>775.000000</td>\n",
              "      <td>163.000000</td>\n",
              "      <td>1.00000</td>\n",
              "    </tr>\n",
              "    <tr>\n",
              "      <th>50%</th>\n",
              "      <td>2500.500000</td>\n",
              "      <td>50.000000</td>\n",
              "      <td>849.000000</td>\n",
              "      <td>284.000000</td>\n",
              "      <td>2.00000</td>\n",
              "    </tr>\n",
              "    <tr>\n",
              "      <th>75%</th>\n",
              "      <td>3750.250000</td>\n",
              "      <td>75.000000</td>\n",
              "      <td>925.000000</td>\n",
              "      <td>390.000000</td>\n",
              "      <td>3.00000</td>\n",
              "    </tr>\n",
              "    <tr>\n",
              "      <th>max</th>\n",
              "      <td>5000.000000</td>\n",
              "      <td>100.000000</td>\n",
              "      <td>999.000000</td>\n",
              "      <td>704000.000000</td>\n",
              "      <td>2000.00000</td>\n",
              "    </tr>\n",
              "  </tbody>\n",
              "</table>\n",
              "</div>"
            ],
            "text/plain": [
              "          order_id      shop_id      user_id   order_amount  total_items\n",
              "count  5000.000000  5000.000000  5000.000000    5000.000000   5000.00000\n",
              "mean   2500.500000    50.078800   849.092400    3145.128000      8.78720\n",
              "std    1443.520003    29.006118    87.798982   41282.539349    116.32032\n",
              "min       1.000000     1.000000   607.000000      90.000000      1.00000\n",
              "25%    1250.750000    24.000000   775.000000     163.000000      1.00000\n",
              "50%    2500.500000    50.000000   849.000000     284.000000      2.00000\n",
              "75%    3750.250000    75.000000   925.000000     390.000000      3.00000\n",
              "max    5000.000000   100.000000   999.000000  704000.000000   2000.00000"
            ]
          },
          "metadata": {
            "tags": []
          },
          "execution_count": 25
        }
      ]
    },
    {
      "cell_type": "markdown",
      "metadata": {
        "id": "qnc5jblSb3h8"
      },
      "source": [
        "**Q.1.c.** The '50%' row gives sencond quartile or the **Median order value** hence looking in the 'order_amount' column we found it as **284**"
      ]
    },
    {
      "cell_type": "markdown",
      "metadata": {
        "id": "lYp0V2TjcMwO"
      },
      "source": [
        "**Q.1.c. MOV using tuned data for histogram analysis**"
      ]
    },
    {
      "cell_type": "code",
      "metadata": {
        "colab": {
          "base_uri": "https://localhost:8080/",
          "height": 284
        },
        "id": "c-lBKMrZb2OG",
        "outputId": "d96f232e-a526-4e39-8ea2-5119d33ac8fe"
      },
      "source": [
        "tune_data1.describe()"
      ],
      "execution_count": 26,
      "outputs": [
        {
          "output_type": "execute_result",
          "data": {
            "text/html": [
              "<div>\n",
              "<style scoped>\n",
              "    .dataframe tbody tr th:only-of-type {\n",
              "        vertical-align: middle;\n",
              "    }\n",
              "\n",
              "    .dataframe tbody tr th {\n",
              "        vertical-align: top;\n",
              "    }\n",
              "\n",
              "    .dataframe thead th {\n",
              "        text-align: right;\n",
              "    }\n",
              "</style>\n",
              "<table border=\"1\" class=\"dataframe\">\n",
              "  <thead>\n",
              "    <tr style=\"text-align: right;\">\n",
              "      <th></th>\n",
              "      <th>order_id</th>\n",
              "      <th>shop_id</th>\n",
              "      <th>user_id</th>\n",
              "      <th>order_amount</th>\n",
              "      <th>total_items</th>\n",
              "    </tr>\n",
              "  </thead>\n",
              "  <tbody>\n",
              "    <tr>\n",
              "      <th>count</th>\n",
              "      <td>4937.000000</td>\n",
              "      <td>4937.000000</td>\n",
              "      <td>4937.000000</td>\n",
              "      <td>4937.000000</td>\n",
              "      <td>4937.000000</td>\n",
              "    </tr>\n",
              "    <tr>\n",
              "      <th>mean</th>\n",
              "      <td>2499.551347</td>\n",
              "      <td>49.846465</td>\n",
              "      <td>849.752279</td>\n",
              "      <td>302.580514</td>\n",
              "      <td>1.994734</td>\n",
              "    </tr>\n",
              "    <tr>\n",
              "      <th>std</th>\n",
              "      <td>1444.069407</td>\n",
              "      <td>29.061131</td>\n",
              "      <td>86.840313</td>\n",
              "      <td>160.804912</td>\n",
              "      <td>0.982821</td>\n",
              "    </tr>\n",
              "    <tr>\n",
              "      <th>min</th>\n",
              "      <td>1.000000</td>\n",
              "      <td>1.000000</td>\n",
              "      <td>700.000000</td>\n",
              "      <td>90.000000</td>\n",
              "      <td>1.000000</td>\n",
              "    </tr>\n",
              "    <tr>\n",
              "      <th>25%</th>\n",
              "      <td>1248.000000</td>\n",
              "      <td>24.000000</td>\n",
              "      <td>775.000000</td>\n",
              "      <td>163.000000</td>\n",
              "      <td>1.000000</td>\n",
              "    </tr>\n",
              "    <tr>\n",
              "      <th>50%</th>\n",
              "      <td>2497.000000</td>\n",
              "      <td>50.000000</td>\n",
              "      <td>850.000000</td>\n",
              "      <td>284.000000</td>\n",
              "      <td>2.000000</td>\n",
              "    </tr>\n",
              "    <tr>\n",
              "      <th>75%</th>\n",
              "      <td>3751.000000</td>\n",
              "      <td>74.000000</td>\n",
              "      <td>925.000000</td>\n",
              "      <td>387.000000</td>\n",
              "      <td>3.000000</td>\n",
              "    </tr>\n",
              "    <tr>\n",
              "      <th>max</th>\n",
              "      <td>5000.000000</td>\n",
              "      <td>100.000000</td>\n",
              "      <td>999.000000</td>\n",
              "      <td>1760.000000</td>\n",
              "      <td>8.000000</td>\n",
              "    </tr>\n",
              "  </tbody>\n",
              "</table>\n",
              "</div>"
            ],
            "text/plain": [
              "          order_id      shop_id      user_id  order_amount  total_items\n",
              "count  4937.000000  4937.000000  4937.000000   4937.000000  4937.000000\n",
              "mean   2499.551347    49.846465   849.752279    302.580514     1.994734\n",
              "std    1444.069407    29.061131    86.840313    160.804912     0.982821\n",
              "min       1.000000     1.000000   700.000000     90.000000     1.000000\n",
              "25%    1248.000000    24.000000   775.000000    163.000000     1.000000\n",
              "50%    2497.000000    50.000000   850.000000    284.000000     2.000000\n",
              "75%    3751.000000    74.000000   925.000000    387.000000     3.000000\n",
              "max    5000.000000   100.000000   999.000000   1760.000000     8.000000"
            ]
          },
          "metadata": {
            "tags": []
          },
          "execution_count": 26
        }
      ]
    },
    {
      "cell_type": "markdown",
      "metadata": {
        "id": "vN_DrvS9cXpQ"
      },
      "source": [
        "**Q.1.c.** The '50%' row gives sencond quartile or the **Median order value** hence looking in the 'order_amount' column we found it as **284**"
      ]
    },
    {
      "cell_type": "markdown",
      "metadata": {
        "id": "frM_SfhjcjkW"
      },
      "source": [
        "**Q.1.c. MOV using filtered data for boxplot analysis**"
      ]
    },
    {
      "cell_type": "code",
      "metadata": {
        "colab": {
          "base_uri": "https://localhost:8080/",
          "height": 284
        },
        "id": "ksYoti51cUxx",
        "outputId": "9259d944-cef6-49c0-9d20-ca8d88760af4"
      },
      "source": [
        "filter_data.describe()"
      ],
      "execution_count": 27,
      "outputs": [
        {
          "output_type": "execute_result",
          "data": {
            "text/html": [
              "<div>\n",
              "<style scoped>\n",
              "    .dataframe tbody tr th:only-of-type {\n",
              "        vertical-align: middle;\n",
              "    }\n",
              "\n",
              "    .dataframe tbody tr th {\n",
              "        vertical-align: top;\n",
              "    }\n",
              "\n",
              "    .dataframe thead th {\n",
              "        text-align: right;\n",
              "    }\n",
              "</style>\n",
              "<table border=\"1\" class=\"dataframe\">\n",
              "  <thead>\n",
              "    <tr style=\"text-align: right;\">\n",
              "      <th></th>\n",
              "      <th>order_id</th>\n",
              "      <th>shop_id</th>\n",
              "      <th>user_id</th>\n",
              "      <th>order_amount</th>\n",
              "      <th>total_items</th>\n",
              "    </tr>\n",
              "  </thead>\n",
              "  <tbody>\n",
              "    <tr>\n",
              "      <th>count</th>\n",
              "      <td>4859.000000</td>\n",
              "      <td>4859.000000</td>\n",
              "      <td>4859.000000</td>\n",
              "      <td>4859.000000</td>\n",
              "      <td>4859.000000</td>\n",
              "    </tr>\n",
              "    <tr>\n",
              "      <th>mean</th>\n",
              "      <td>2497.395966</td>\n",
              "      <td>49.852645</td>\n",
              "      <td>849.905742</td>\n",
              "      <td>293.715374</td>\n",
              "      <td>1.950196</td>\n",
              "    </tr>\n",
              "    <tr>\n",
              "      <th>std</th>\n",
              "      <td>1443.356555</td>\n",
              "      <td>29.049171</td>\n",
              "      <td>86.887496</td>\n",
              "      <td>144.453395</td>\n",
              "      <td>0.919791</td>\n",
              "    </tr>\n",
              "    <tr>\n",
              "      <th>min</th>\n",
              "      <td>1.000000</td>\n",
              "      <td>1.000000</td>\n",
              "      <td>700.000000</td>\n",
              "      <td>90.000000</td>\n",
              "      <td>1.000000</td>\n",
              "    </tr>\n",
              "    <tr>\n",
              "      <th>25%</th>\n",
              "      <td>1244.500000</td>\n",
              "      <td>24.000000</td>\n",
              "      <td>776.000000</td>\n",
              "      <td>162.000000</td>\n",
              "      <td>1.000000</td>\n",
              "    </tr>\n",
              "    <tr>\n",
              "      <th>50%</th>\n",
              "      <td>2498.000000</td>\n",
              "      <td>50.000000</td>\n",
              "      <td>850.000000</td>\n",
              "      <td>280.000000</td>\n",
              "      <td>2.000000</td>\n",
              "    </tr>\n",
              "    <tr>\n",
              "      <th>75%</th>\n",
              "      <td>3749.500000</td>\n",
              "      <td>74.000000</td>\n",
              "      <td>925.000000</td>\n",
              "      <td>380.000000</td>\n",
              "      <td>3.000000</td>\n",
              "    </tr>\n",
              "    <tr>\n",
              "      <th>max</th>\n",
              "      <td>5000.000000</td>\n",
              "      <td>100.000000</td>\n",
              "      <td>999.000000</td>\n",
              "      <td>730.000000</td>\n",
              "      <td>5.000000</td>\n",
              "    </tr>\n",
              "  </tbody>\n",
              "</table>\n",
              "</div>"
            ],
            "text/plain": [
              "          order_id      shop_id      user_id  order_amount  total_items\n",
              "count  4859.000000  4859.000000  4859.000000   4859.000000  4859.000000\n",
              "mean   2497.395966    49.852645   849.905742    293.715374     1.950196\n",
              "std    1443.356555    29.049171    86.887496    144.453395     0.919791\n",
              "min       1.000000     1.000000   700.000000     90.000000     1.000000\n",
              "25%    1244.500000    24.000000   776.000000    162.000000     1.000000\n",
              "50%    2498.000000    50.000000   850.000000    280.000000     2.000000\n",
              "75%    3749.500000    74.000000   925.000000    380.000000     3.000000\n",
              "max    5000.000000   100.000000   999.000000    730.000000     5.000000"
            ]
          },
          "metadata": {
            "tags": []
          },
          "execution_count": 27
        }
      ]
    },
    {
      "cell_type": "markdown",
      "metadata": {
        "id": "sqjTlJJncq0W"
      },
      "source": [
        "**Q.1.c.** The '50%' row gives sencond quartile or the **Median order value** hence looking in the 'order_amount' column we found it as **280**"
      ]
    },
    {
      "cell_type": "markdown",
      "metadata": {
        "id": "JvlWM0BXcxek"
      },
      "source": [
        "**Q.1.c. We found that for all the three data MEDIAN ORDER VALUE remains almost same averaging to 282 which is very near to AVERAGE ORDER VALUE found after analysis averaging to 298.15 and hence for data with outliers MEDIAN ORDER VALUE matrix is a perfect choice.**"
      ]
    },
    {
      "cell_type": "markdown",
      "metadata": {
        "id": "oIFAyeIUgL1N"
      },
      "source": [
        "**Q.2. For this question you’ll need to use SQL. Follow this link to access the data set required for the challenge. Please use queries to answer the following questions. Paste your queries along with your final numerical answers below.**"
      ]
    },
    {
      "cell_type": "markdown",
      "metadata": {
        "id": "EN5sWTqIt__3"
      },
      "source": [
        "**Q.2.a. How many orders were shipped by Speedy Express in total?**\n",
        "\n",
        "Speedy express shipped 54 orders."
      ]
    },
    {
      "cell_type": "markdown",
      "metadata": {
        "id": "dPlt6PkNudN1"
      },
      "source": [
        "Query is having following logic:\n",
        "\n",
        "Because number of orders are to be found orders table is queried along with inner join on shippers table on shipperID as common linkage as only orders delivered by Speedy Express needed to be found"
      ]
    },
    {
      "cell_type": "code",
      "metadata": {
        "id": "ZuvdNbQPcixB"
      },
      "source": [
        "SELECT COUNT(*) AS speedy_orders\n",
        "FROM Orders JOIN Shippers ON Shippers.ShipperID = Orders.ShipperID\n",
        "WHERE Shippers.ShipperName = 'Speedy Express';"
      ],
      "execution_count": null,
      "outputs": []
    },
    {
      "cell_type": "markdown",
      "metadata": {
        "id": "nSwEEQOiu-7R"
      },
      "source": [
        "**Q.2.b. What is the last name of the employee with the most orders?**\n",
        "\n",
        "Last name of the employee is Peacock with 40 orders."
      ]
    },
    {
      "cell_type": "markdown",
      "metadata": {
        "id": "9P69p_8VvT9G"
      },
      "source": [
        "Query is having following logic:\n",
        "\n",
        "Last name of the employee is to be found hance querying on employee table but employee should have maximum no. of orders hence joining orders on employeeID linkage further grouped on last name and ordered in descending order."
      ]
    },
    {
      "cell_type": "code",
      "metadata": {
        "id": "A3oKxkAAvUdw"
      },
      "source": [
        "SELECT Employees.LastName, COUNT(*) AS order_count\n",
        "FROM Employees JOIN Orders ON Employees.EmployeeID = Orders.EmployeeID\n",
        "GROUP BY Employees.LastName\n",
        "ORDER BY order_count DESC\n",
        "LIMIT 1;"
      ],
      "execution_count": null,
      "outputs": []
    },
    {
      "cell_type": "markdown",
      "metadata": {
        "id": "x5UA-ylyxsgp"
      },
      "source": [
        "**Q.2.c. What product was ordered the most by customers in Germany?**\n",
        "\n",
        "In Germany Boston Crab Meat is order maximum 160 number of times."
      ]
    },
    {
      "cell_type": "markdown",
      "metadata": {
        "id": "uUx6rX0GyFpB"
      },
      "source": [
        "Query is having following logic:\n",
        "\n",
        "Product name is to be found hence querying products joining orderdetails on common linkage productID to sum total count of orders further joining orders on common linkage of orderID so that we can get customerID in the combine table to finally join customers on common linkage of cusomerID. Eventually conditioning country as germany data is grouped by product name and ordered in descending order."
      ]
    },
    {
      "cell_type": "code",
      "metadata": {
        "id": "16dP-lxDyGHV"
      },
      "source": [
        "SELECT Products.ProductID, Products.productName, SUM(OrderDetails.Quantity) AS total_count\n",
        "FROM Products JOIN OrderDetails ON OrderDetails.productID = Products.productID\n",
        "JOIN Orders ON Orders.OrderID = OrderDetails.orderID\n",
        "JOIN Customers ON Customers.CustomerID = Orders.CustomerID\n",
        "WHERE Customers.Country = 'Germany'\n",
        "GROUP BY Products.productName\n",
        "ORDER BY total_count DESC\n",
        "LIMIT 1;"
      ],
      "execution_count": null,
      "outputs": []
    }
  ]
}